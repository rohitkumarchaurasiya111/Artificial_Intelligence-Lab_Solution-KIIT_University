{
 "cells": [
  {
   "cell_type": "markdown",
   "id": "4b3fdda9-1ca1-46eb-ac6b-95d7390f1d2f",
   "metadata": {},
   "source": [
    "<h1>AI Planner Using A* for Task Scheduling </h1>\n",
    "<p>\n",
    "Objective: Use A* Search to optimize task scheduling.\n",
    "<br>\n",
    "Problem Statement: A set of tasks with dependencies and durations needs to be scheduled to minimize total time.\n",
    "<br>\n",
    "Tasks:<br>\n",
    "Represent tasks and dependencies as a directed graph.<br>\n",
    "Use A* Search when the heuristic estimates the remaining tasks' duration.<br>\n",
    "Compare results with a greedy algorithm.</p>"
   ]
  },
  {
   "cell_type": "code",
   "execution_count": 4,
   "id": "b87815bd-ffa0-40d4-ad1a-5fa015848cf3",
   "metadata": {},
   "outputs": [
    {
     "name": "stdout",
     "output_type": "stream",
     "text": [
      "🔍 A* Schedule: ['A', 'B', 'C', 'D']\n",
      "⏱️ A* Total Time: 11\n",
      "\n",
      "⚡ Greedy Schedule: ['A', 'B', 'C', 'D']\n",
      "⏱️ Greedy Total Time: 11\n"
     ]
    }
   ],
   "source": [
    "import heapq\n",
    "\n",
    "# Task graph\n",
    "tasks = {\n",
    "    'A': {'duration': 3, 'dependencies': []},\n",
    "    'B': {'duration': 2, 'dependencies': ['A']},\n",
    "    'C': {'duration': 4, 'dependencies': ['A']},\n",
    "    'D': {'duration': 2, 'dependencies': ['B', 'C']},\n",
    "}\n",
    "\n",
    "# Heuristic: sum of durations of unscheduled tasks\n",
    "def heuristic(remaining_tasks):\n",
    "    return sum(tasks[t]['duration'] for t in remaining_tasks)\n",
    "\n",
    "# Check if all dependencies are satisfied\n",
    "def ready_tasks(scheduled, remaining):\n",
    "    return [t for t in remaining if all(dep in scheduled for dep in tasks[t]['dependencies'])]\n",
    "\n",
    "# A* Scheduling\n",
    "def a_star_scheduler():\n",
    "    heap = []\n",
    "    start_state = (0 + heuristic(tasks.keys()), 0, [], set(tasks.keys()))  # (f = g + h, g, scheduled, remaining)\n",
    "    heapq.heappush(heap, start_state)\n",
    "    visited = set()\n",
    "\n",
    "    while heap:\n",
    "        f, g, scheduled, remaining = heapq.heappop(heap)\n",
    "        state_signature = tuple(sorted(scheduled))\n",
    "        if state_signature in visited:\n",
    "            continue\n",
    "        visited.add(state_signature)\n",
    "\n",
    "        if not remaining:\n",
    "            return scheduled, g  # Final schedule and total duration\n",
    "\n",
    "        for task in ready_tasks(scheduled, remaining):\n",
    "            new_scheduled = scheduled + [task]\n",
    "            new_remaining = remaining - {task}\n",
    "            cost_so_far = g + tasks[task]['duration']\n",
    "            est_cost = cost_so_far + heuristic(new_remaining)\n",
    "            heapq.heappush(heap, (est_cost, cost_so_far, new_scheduled, new_remaining))\n",
    "    return None, float('inf')\n",
    "\n",
    "# Greedy Scheduler (shortest duration first, respecting dependencies)\n",
    "def greedy_scheduler():\n",
    "    scheduled = []\n",
    "    remaining = set(tasks.keys())\n",
    "    total_time = 0\n",
    "\n",
    "    while remaining:\n",
    "        ready = ready_tasks(scheduled, remaining)\n",
    "        if not ready:\n",
    "            break\n",
    "        # Choose the task with the shortest duration\n",
    "        task = min(ready, key=lambda t: tasks[t]['duration'])\n",
    "        scheduled.append(task)\n",
    "        total_time += tasks[task]['duration']\n",
    "        remaining.remove(task)\n",
    "    return scheduled, total_time\n",
    "\n",
    "# Run both schedulers\n",
    "astar_schedule, astar_time = a_star_scheduler()\n",
    "greedy_schedule, greedy_time = greedy_scheduler()\n",
    "\n",
    "print(\"🔍 A* Schedule:\", astar_schedule)\n",
    "print(\"⏱️ A* Total Time:\", astar_time)\n",
    "\n",
    "print(\"\\n⚡ Greedy Schedule:\", greedy_schedule)\n",
    "print(\"⏱️ Greedy Total Time:\", greedy_time)\n"
   ]
  },
  {
   "cell_type": "code",
   "execution_count": null,
   "id": "ae02cacb-c8f8-4bb9-bf50-90ab76512e5f",
   "metadata": {},
   "outputs": [],
   "source": []
  }
 ],
 "metadata": {
  "kernelspec": {
   "display_name": "Python [conda env:base] *",
   "language": "python",
   "name": "conda-base-py"
  },
  "language_info": {
   "codemirror_mode": {
    "name": "ipython",
    "version": 3
   },
   "file_extension": ".py",
   "mimetype": "text/x-python",
   "name": "python",
   "nbconvert_exporter": "python",
   "pygments_lexer": "ipython3",
   "version": "3.12.7"
  }
 },
 "nbformat": 4,
 "nbformat_minor": 5
}
